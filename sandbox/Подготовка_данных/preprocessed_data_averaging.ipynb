{
 "cells": [
  {
   "cell_type": "markdown",
   "metadata": {},
   "source": [
    "# Усреднение данных"
   ]
  },
  {
   "cell_type": "code",
   "execution_count": 1,
   "metadata": {},
   "outputs": [],
   "source": [
    "import pandas as pd\n",
    "import numpy as np\n",
    "import matplotlib.pyplot as plt\n",
    "import glob\n",
    "import os\n",
    "import traceback"
   ]
  },
  {
   "cell_type": "markdown",
   "metadata": {},
   "source": [
    "Названия столбцов и заголовков"
   ]
  },
  {
   "cell_type": "code",
   "execution_count": 2,
   "metadata": {},
   "outputs": [],
   "source": [
    "timestamp = 'timestamp'\n",
    "ch4_name = 'CH4'\n",
    "ch4Ref_name = 'CH4Ref'\n",
    "ch4LR_name = 'CH4LR'\n",
    "voltage_name = 'V'\n",
    "adc_name = 'ADC'\n",
    "T_name = 'T'\n",
    "rh_name = 'rH'\n",
    "ah_name = 'aH'\n",
    "P_name = 'P'\n",
    "fanspeed_name = 'fanSpeed'\n",
    "res_header = [timestamp, adc_name, voltage_name, T_name, rh_name, ah_name, P_name, fanspeed_name]"
   ]
  },
  {
   "cell_type": "markdown",
   "metadata": {},
   "source": [
    "# Настройки усреднения"
   ]
  },
  {
   "cell_type": "markdown",
   "metadata": {},
   "source": [
    "Порядок усреднения величин"
   ]
  },
  {
   "cell_type": "code",
   "execution_count": null,
   "metadata": {},
   "outputs": [],
   "source": [
    "demands_ref = {timestamp: 'first', ch4Ref_name: 'mean'}\n",
    "demands_data = {timestamp: 'first', adc_name: 'mean', T_name: 'mean', rh_name: 'mean', ah_name: 'mean', P_name: 'mean', fanspeed_name: 'mean'}\n",
    "round_order = {adc_name : 0, T_name : 1, rh_name : 1, ah_name : 5, P_name : 1}\n",
    "# если длительность измерения превышает 60 секунд (т.е. количество точек при измерении 1 раз в секунду), округлять данные каждые 30 секунд\n",
    "max_time_for_one_point = 60\n",
    "averaging_period = 30"
   ]
  },
  {
   "cell_type": "markdown",
   "metadata": {},
   "source": [
    "Задать id серий (списком или диапазоном) и названия папок"
   ]
  },
  {
   "cell_type": "code",
   "execution_count": 7,
   "metadata": {},
   "outputs": [],
   "source": [
    "seriesIds = range(28,29)\n",
    "folder_name = \"/averaged/\" # имя папки с результатами (усредненными данными)\n",
    "ref_folder = \"processed_auto\" # имя папки с данными для усреднения\n",
    "MS_DATA_path = \"../../MS_DATA\" # путь до папки с сериями"
   ]
  },
  {
   "cell_type": "markdown",
   "metadata": {},
   "source": [
    "Не менять"
   ]
  },
  {
   "cell_type": "code",
   "execution_count": null,
   "metadata": {},
   "outputs": [],
   "source": [
    "voltage_step = 2.5 / 2**16 # шаг по напряжению (разница между двумя соседними отсчетами)"
   ]
  },
  {
   "cell_type": "markdown",
   "metadata": {},
   "source": [
    "# Функции"
   ]
  },
  {
   "cell_type": "markdown",
   "metadata": {},
   "source": [
    "Функции для построения графиков"
   ]
  },
  {
   "cell_type": "code",
   "execution_count": 4,
   "metadata": {},
   "outputs": [],
   "source": [
    "def plotRefAndMeasure(x1, y1, x2, y2, title):\n",
    "\tfigure, axis = plt.subplots(2, 1, sharex=True, figsize=(16,10), dpi = 300)\n",
    "\taxis[0].scatter(x1, y1)\n",
    "\taxis[0].set_title(\"Газоанализатор ABB (эталонный прибор)\")\n",
    "\taxis[0].set_ylabel('Содержание метана, ppm')\n",
    "\taxis[1].scatter(x2, y2)\n",
    "\taxis[1].set_title(\"Калибруемый датчик\")\n",
    "\taxis[1].set_ylabel('Напряжение, В')\n",
    "\tfigure.suptitle(title)\n",
    "\treturn figure\n",
    "\n",
    "def plotMeasure(x1, y1, title):\n",
    "\tfigure, axis = plt.subplots(figsize=(16,10), dpi = 300)\n",
    "\taxis.scatter(x1, y1)\n",
    "\tplt.xlabel('Время, с')\n",
    "\tplt.ylabel('Напряжение, В')\n",
    "\tplt.title(title)\n",
    "\treturn figure"
   ]
  },
  {
   "cell_type": "markdown",
   "metadata": {},
   "source": [
    "Функция для конкатинации"
   ]
  },
  {
   "cell_type": "code",
   "execution_count": 5,
   "metadata": {},
   "outputs": [],
   "source": [
    "def concatRefDataIntoFrame(dirPath):\n",
    "\tall_files = []\n",
    "\tif os.path.isdir(dirPath):\n",
    "\t\tall_files = glob.glob(dirPath + \"/refData*.csv\")\n",
    "\telse:\n",
    "\t\tall_files = [dirPath]\n",
    "\tli = []\n",
    "\tfor filename in all_files:\n",
    "\t\tdf = pd.read_csv(filename, delimiter=',', header=None)\n",
    "\t\tli.append(df)\n",
    "\tframe = pd.concat(li, ignore_index=True)\n",
    "\treturn frame"
   ]
  },
  {
   "cell_type": "markdown",
   "metadata": {},
   "source": [
    "# Усреднение и сохранение результатов"
   ]
  },
  {
   "cell_type": "code",
   "execution_count": 14,
   "metadata": {},
   "outputs": [],
   "source": [
    "for seriesId in seriesIds:\n",
    "\ttry:\n",
    "\t\tseriesDataTemplate = f\"{MS_DATA_path}/series{seriesId}_*\"\n",
    "\t\tseriesDataPath = glob.glob(seriesDataTemplate)[0]\n",
    "\t\tseriesRefDataTemplate = f\"{MS_DATA_path}/ReferenceData/referenceData_series{seriesId}_*\"\n",
    "\t\tdirName = seriesDataPath + folder_name\n",
    "\t\tmeasurePathes = glob.glob(seriesDataPath + \"/measure*.csv\")\n",
    "\t\tmeasurementsCount = len(measurePathes)\n",
    "\t\t#Создание папки внутри серии для усредненных данных\n",
    "\t\tif not os.path.exists(dirName):\n",
    "\t\t\tos.makedirs(dirName)\n",
    "\t\t\tprint(\"Directory \" , dirName ,  \" Created \")\n",
    "\n",
    "\t\tfor measureId in range(1, measurementsCount + 1):\n",
    "\t\t\t# по дефолту округляем до одной точки\n",
    "\t\t\tnumber = 1\n",
    "\t\t\ttry:\n",
    "\t\t\t\tmeasureTemplate = seriesDataPath + f\"/measure{measureId}_*.csv\"\n",
    "\t\t\t\tmeasureDataPath = glob.glob(measureTemplate)[0]\n",
    "\t\t\t\tmeasureRefDataTemplate = seriesDataPath + f\"/{ref_folder}/refData_measure{measureId}_*\"\n",
    "\t\t\t\tmeasureRefDataPathes = glob.glob(measureRefDataTemplate)\n",
    "\t\t\t\tname = os.path.basename(measureDataPath)\n",
    "\t\t\t\tmeasure_name = os.path.splitext(name)[0]\n",
    "\t\t\t\timage_path = measure_name +'_row.png'\n",
    "\n",
    "\t\t\t\tdf_measure = pd.read_csv(measureDataPath)\n",
    "\t\t\t\tdf_measure[timestamp] = pd.to_datetime(df_measure[timestamp])\n",
    "\t\t\t\tif measureRefDataPathes:\n",
    "\t\t\t\t\tmeasureRefDataPath = glob.glob(measureRefDataTemplate)[0]\n",
    "\t\t\t\t\tdf_ref = pd.read_csv(measureRefDataPath, header=None)\n",
    "\t\t\t\t\tdf_ref.set_axis([timestamp, ch4Ref_name], axis='columns', inplace=True)\n",
    "\t\t\t\t\tdf_ref[timestamp] = pd.to_datetime(df_ref[timestamp])\n",
    "\t\t\t\t\tfigure_before = plotRefAndMeasure(df_ref.timestamp, df_ref.CH4Ref, df_measure.timestamp, df_measure.V, f\"Данные измерения №{measureId} из серии {seriesId} без усреднения\")\n",
    "\t\t\t\t\t# если длительность измерения превышает 60 секунд (т.е. количество точек при измерении 1 раз в секунду), округлять данные каждые 30 секунд\n",
    "\t\t\t\t\tif len(df_ref) / max_time_for_one_point > 1 :\n",
    "\t\t\t\t\t\tnumber = int(len(df_ref) / averaging_period)\n",
    "\t\t\t\t\t# количество точек в одном сэмпле усреднения\n",
    "\t\t\t\t\tsamples_number = len(df_ref.index) // number\n",
    "\t\t\t\t\tres_ref = df_ref.groupby(df_ref.index // samples_number).agg(demands_ref)\n",
    "\t\t\t\t\tres_ref = res_ref.round({ch4Ref_name : 3})\n",
    "\t\t\t\t\t# если количество точек не делится нацело, то остается 1 или больше точек, которые не округляются, их нужно удалить\n",
    "\t\t\t\t\tif len(res_ref) > number:\n",
    "\t\t\t\t\t\tres_ref.drop(res_ref.tail(len(res_ref) - number).index,inplace=True)\n",
    "\t\t\t\t\tres_ref.to_csv(dirName + \"/\" + f\"refData_{name}\", header=None, index=None)\n",
    "\t\t\t\telse:\n",
    "\t\t\t\t\t# если нет референсных данных\n",
    "\t\t\t\t\tfigure_before = plotMeasure(df_measure.timestamp, df_measure.V, f\"Данные измерения №{measureId} из серии {seriesId} без усреднения\")\n",
    "\t\t\t\t\tif len(df_measure) / max_time_for_one_point > 1 :\n",
    "\t\t\t\t\t\tnumber = int(len(df_measure) / averaging_period)\n",
    "\t\t\t\t\tsamples_number = len(df_measure.index) // number\n",
    "\t\t\t\tfigure_before.savefig(dirName + \"/\" + measure_name +'_row.png')\n",
    "\t\t\t\t# отключает отображение графиков в скрипте, можно закомментировать 2 следующие строки\n",
    "\t\t\t\tplt.close()\n",
    "\t\t\t\tplt.ioff()\n",
    "\n",
    "\t\t\t\tres_measure = df_measure.groupby(df_measure.index // samples_number).agg(demands_data)\n",
    "\t\t\t\tres_measure = res_measure.round(round_order)\n",
    "\t\t\t\t# расчет напряжения по усредненным значениям отсчетов АЦП, чтобы не получались значения в промежутках между возможными значениями напряжения\n",
    "\t\t\t\t# шаг по напряжению: 0.00003 В\n",
    "\t\t\t\tres_measure[voltage_name] = round(res_measure[adc_name] * voltage_step, 5)\n",
    "\t\t\t\tres_measure = res_measure.astype({adc_name :'int'})\n",
    "\t\t\t\tres_measure = res_measure[res_header]\n",
    "\t\t\t\t# если длительность измерения превышает 60 секунд (т.е. количество точек при измерении 1 раз в секунду), округлять данные каждые 30 секунд\n",
    "\t\t\t\tif len(res_measure) > number:\n",
    "\t\t\t\t\tres_measure.drop(res_measure.tail(len(res_measure) - number).index,inplace=True)\n",
    "\t\t\t\tres_measure.to_csv(dirName + \"/\" + name, index= None)\n",
    "\t\t\t\tif measureRefDataPathes:\n",
    "\t\t\t\t\tfigure = plotRefAndMeasure(res_ref[timestamp], res_ref[ch4Ref_name], res_measure[timestamp], res_measure[voltage_name], f\"Данные измерения №{measureId} из серии {seriesId} после усреднения\")\n",
    "\t\t\t\telse:\n",
    "\t\t\t\t\tfigure = plotMeasure(res_measure[timestamp], res_measure[voltage_name], f\"Данные измерения №{measureId} из серии {seriesId} после усреднения\")\n",
    "\t\t\t\tfigure.savefig(dirName + \"/\" + measure_name +'_averaged.png')\n",
    "\t\t\t\t# отключает отображение графиков в скрипте, можно закомментировать 2 следующие строки\n",
    "\t\t\t\tplt.close()\n",
    "\t\t\t\tplt.ioff()\n",
    "\n",
    "\t\t\texcept Exception as e:\n",
    "\t\t\t\tprint(measureId, e)\n",
    "\t\t\t\tcontinue\n",
    "\t\t\t\t\n",
    "\t\t#Конкатинация референсных данных для отдельных измерений в один файл для всей серии\n",
    "\t\tif measureRefDataPathes:\n",
    "\t\t\tendRefPath = dirName + \"referenceData_{}.csv\".format(os.path.splitext(os.path.basename(seriesDataPath))[0])\n",
    "\t\t\tseriesRefDf = concatRefDataIntoFrame(dirName)\n",
    "\t\t\tseriesRefDf.set_axis([timestamp, ch4Ref_name], axis='columns', inplace=True)\n",
    "\t\t\tseriesRefDf.sort_values(by=[timestamp], inplace=True)\n",
    "\t\t\tseriesRefDf = seriesRefDf.round({ch4Ref_name : 3})\n",
    "\t\t\tseriesRefDf.to_csv(endRefPath, header=None, index=None)\n",
    "\n",
    "\n",
    "\texcept Exception as e:\n",
    "\t\tprint(seriesId, traceback.format_exc())\n",
    "\t\tcontinue\n",
    "\tfinally:\n",
    "\t\tdf_ref = None\n",
    "\t\tdf_measure = None"
   ]
  }
 ],
 "metadata": {
  "interpreter": {
   "hash": "5b9f814de4fe227a831ee47150e9333615a9dc82db7d73cc22cc58090973493b"
  },
  "kernelspec": {
   "display_name": "Python 3.8.1 64-bit",
   "language": "python",
   "name": "python3"
  },
  "language_info": {
   "codemirror_mode": {
    "name": "ipython",
    "version": 3
   },
   "file_extension": ".py",
   "mimetype": "text/x-python",
   "name": "python",
   "nbconvert_exporter": "python",
   "pygments_lexer": "ipython3",
   "version": "3.8.1"
  },
  "orig_nbformat": 4
 },
 "nbformat": 4,
 "nbformat_minor": 2
}
